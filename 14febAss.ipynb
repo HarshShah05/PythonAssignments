{
 "cells": [
  {
   "cell_type": "code",
   "execution_count": null,
   "metadata": {},
   "outputs": [],
   "source": [
    "# Multithreading basically means running of more than one functions simultaneously by creating 2 different threads\n"
   ]
  },
  {
   "attachments": {},
   "cell_type": "markdown",
   "metadata": {},
   "source": [
    "Q2"
   ]
  },
  {
   "cell_type": "code",
   "execution_count": null,
   "metadata": {},
   "outputs": [],
   "source": [
    "# why threading module used? write the use of the following functions\n",
    "# activeCount()\n",
    "#  currentThread()\n",
    "#  enumerate()\n",
    "\n",
    "# activecount()--The activeCount () method of thread class is used to return the number of active threads in the current thread's thread group"
   ]
  },
  {
   "attachments": {},
   "cell_type": "markdown",
   "metadata": {},
   "source": [
    "Q3"
   ]
  },
  {
   "cell_type": "code",
   "execution_count": null,
   "metadata": {},
   "outputs": [],
   "source": [
    "# Explain the following functions\n",
    "# ( run\n",
    "#  start\n",
    "#  join\n",
    "#  isAlive)\n",
    "\n",
    "# start--To start the thread\n",
    "# join-waits untile a thread is completely executed\n",
    "# isalive ---to check whether a thread isalive or dead"
   ]
  },
  {
   "attachments": {},
   "cell_type": "markdown",
   "metadata": {},
   "source": [
    "Q4"
   ]
  },
  {
   "cell_type": "code",
   "execution_count": 1,
   "metadata": {},
   "outputs": [
    {
     "name": "stdout",
     "output_type": "stream",
     "text": [
      "squarecube 1\n",
      " 1\n",
      "cube 8\n",
      "square 4\n",
      "squarecube 27\n",
      " 9\n",
      "cube 64\n",
      "square 16\n",
      "Time taken is  0.8309860229492188\n"
     ]
    }
   ],
   "source": [
    "import time\n",
    "import threading\n",
    "\n",
    "\n",
    "def square(x):\n",
    "  for i in x:\n",
    "    time.sleep(0.2)\n",
    "    print(\"square\",i*i)\n",
    "\n",
    "def cube(x):\n",
    "  for i in x:\n",
    "    time.sleep(0.2)\n",
    "    print(\"cube\",i*i*i)\n",
    "\n",
    "l=[1,2,3,4]\n",
    "\n",
    "t=time.time()\n",
    "\n",
    "# create  2 threads for 2 functions.\n",
    "# args is the argument.\n",
    "t1=threading.Thread(target=square,args=(l,))\n",
    "t2=threading.Thread(target=cube,args=(l,))\n",
    "\n",
    "t1.start()\n",
    "t2.start()\n",
    "\n",
    "t1.join()\n",
    "t2.join()\n",
    "\n",
    "print(\"Time taken is \",time.time()-t)\n",
    "\n",
    "\n",
    "# print(\"Square of numbers\")\n",
    "# square(l)\n",
    "\n",
    "# print(\"Cube of numbers\")\n",
    "# cube(l)\n",
    "\n",
    "# print(t)\n",
    "# 1677522930.3247209---time without multithreading"
   ]
  },
  {
   "attachments": {},
   "cell_type": "markdown",
   "metadata": {},
   "source": [
    "Q5"
   ]
  },
  {
   "cell_type": "code",
   "execution_count": null,
   "metadata": {},
   "outputs": [],
   "source": [
    "# advantages and disadvantages of multithreading\n",
    "\n",
    "\n",
    "\n",
    "# Advantages\n",
    "# Enhanced performance by decreased development time\n",
    "# Simplified and streamlined program coding\n",
    "# Improvised GUI responsiveness\n",
    "\n",
    "\n",
    "# Disadvantages\n",
    "# Complex debugging and testing processes\n",
    "# Increased potential for deadlock occurrence\n",
    "# Increased difficulty level in writing a program\n",
    "# Unpredictable results"
   ]
  },
  {
   "attachments": {},
   "cell_type": "markdown",
   "metadata": {},
   "source": [
    "Q6"
   ]
  },
  {
   "cell_type": "code",
   "execution_count": null,
   "metadata": {},
   "outputs": [],
   "source": [
    "# what is race condition and deadlock\n",
    "\n",
    "# Race condition\n",
    "# A race condition occurs when two threads access a shared variable at the same time.\n",
    "# The first thread reads the variable, and the second thread reads the same value from the variable.\n",
    "# Then the first thread and second thread perform their operations on the value, and they race to see which thread can write the value last to the shared variable. \n",
    "# The value of the thread that writes its value last is preserved, because the thread is writing over the value that the previous thread wrote\n",
    "\n",
    "# Deadlock\n",
    "# A lock occurs when multiple processes try to access the same resource at the same time.\n",
    "\n",
    "# One process loses out and must wait for the other to finish.\n",
    "\n",
    "# A deadlock occurs when the waiting process is still holding on to another resource that the first needs before it can finish."
   ]
  }
 ],
 "metadata": {
  "kernelspec": {
   "display_name": "Python 3",
   "language": "python",
   "name": "python3"
  },
  "language_info": {
   "codemirror_mode": {
    "name": "ipython",
    "version": 3
   },
   "file_extension": ".py",
   "mimetype": "text/x-python",
   "name": "python",
   "nbconvert_exporter": "python",
   "pygments_lexer": "ipython3",
   "version": "3.11.2"
  },
  "orig_nbformat": 4,
  "vscode": {
   "interpreter": {
    "hash": "81ce77c2427c9ada93eff0271e9fc64c737574fb9201b3904ba44ca2c63ffa08"
   }
  }
 },
 "nbformat": 4,
 "nbformat_minor": 2
}
