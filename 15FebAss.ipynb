{
 "cells": [
  {
   "attachments": {},
   "cell_type": "markdown",
   "metadata": {},
   "source": [
    "Q3"
   ]
  },
  {
   "cell_type": "code",
   "execution_count": 5,
   "metadata": {},
   "outputs": [
    {
     "name": "stdout",
     "output_type": "stream",
     "text": [
      "Done\n"
     ]
    }
   ],
   "source": [
    "import time\n",
    "import multiprocessing\n",
    "\n",
    "def square(x):\n",
    "  for i in x:\n",
    "    print(\"square\",i*i)\n",
    "\n",
    "def cube(x):\n",
    "  for i in x:\n",
    "    print(\"cube\",i*i*i)\n",
    "    \n",
    "if __name__==\"__main__\":\n",
    "    l=[1,2,3,4]\n",
    "    m1=multiprocessing.Process(target=square,args=(l,))\n",
    "    m2=multiprocessing.Process(target=cube,args=(l,))\n",
    "    m1.start()\n",
    "    m2.start()\n",
    "    m1.join()\n",
    "    m2.join()\n",
    "    print(\"Done\")"
   ]
  },
  {
   "attachments": {},
   "cell_type": "markdown",
   "metadata": {},
   "source": [
    "Q1"
   ]
  },
  {
   "cell_type": "code",
   "execution_count": null,
   "metadata": {},
   "outputs": [],
   "source": [
    "# what is multithreading in python?\n",
    "# Multiprocessing is the ability of the system to handle multiple processes simultaneously and independently. \n",
    "# In a multiprocessing system, the applications are broken into smaller routines and the OS gives threads to these processes for better performance"
   ]
  },
  {
   "attachments": {},
   "cell_type": "markdown",
   "metadata": {},
   "source": [
    "Q2"
   ]
  },
  {
   "cell_type": "code",
   "execution_count": null,
   "metadata": {},
   "outputs": [],
   "source": [
    "# difference between multitasking and multiprocessing\n",
    "\n",
    "# A process have variable threads\n",
    "# threads share  address space\n",
    "# global variable can be accesed by threads\n",
    "# threads are lightweight\n",
    "\n",
    "\n",
    "# procees have own address space\n",
    "# they use interprocess communication to communicate with each other\n",
    "# proceeses are heavyweight\n",
    " "
   ]
  },
  {
   "attachments": {},
   "cell_type": "markdown",
   "metadata": {},
   "source": [
    "Q4"
   ]
  },
  {
   "cell_type": "code",
   "execution_count": 1,
   "metadata": {},
   "outputs": [],
   "source": [
    "# pool basically will take single digits and diveide it among various core in CPU and then each will function simultaneously\n",
    "# and u will get result and we will reudce it again to a single list\n",
    "# pool basically includes map and reduce\n",
    "from multiprocessing import Pool\n",
    "\n",
    "def square(x):\n",
    "    return x*x\n",
    "\n",
    "if __name__==\"__main__\":\n",
    "    l=[1,2,3,4,5]\n",
    "    p=Pool()\n",
    "    result=p.map(square,l)\n",
    "    print(result)\n",
    "    \n",
    "    \n"
   ]
  },
  {
   "attachments": {},
   "cell_type": "markdown",
   "metadata": {},
   "source": [
    "Q6"
   ]
  },
  {
   "cell_type": "code",
   "execution_count": 1,
   "metadata": {},
   "outputs": [
    {
     "name": "stdout",
     "output_type": "stream",
     "text": [
      "Done\n"
     ]
    }
   ],
   "source": [
    "import multiprocessing\n",
    "\n",
    "def original(x):\n",
    "  for i in x:\n",
    "    print(\"original\\n\",i)\n",
    "\n",
    "\n",
    "def square(x):\n",
    "  for i in x:\n",
    "    print(\"square\\n\",i*i)\n",
    "\n",
    "\n",
    "def cube(x):\n",
    "  for i in x:\n",
    "    print(\"cube\\n\",i*i*i)\n",
    "\n",
    "\n",
    "def half(x):\n",
    "  for i in x:\n",
    "    print(\"half\\n\",i/2)\n",
    "    \n",
    "if __name__==\"__main__\":\n",
    "    l=[6]\n",
    "    m1=multiprocessing.Process(target=original,args=(l,))\n",
    "    m2=multiprocessing.Process(target=square,args=(l,))\n",
    "    m3=multiprocessing.Process(target=cube,args=(l,))\n",
    "    m4=multiprocessing.Process(target=half,args=(l,))\n",
    "    m1.start()\n",
    "    m2.start()\n",
    "    m3.start()\n",
    "    m4.start()\n",
    "    m1.join()\n",
    "    m2.join()\n",
    "    m3.join()\n",
    "    m4.join()\n",
    "    print(\"Done\")"
   ]
  },
  {
   "attachments": {},
   "cell_type": "markdown",
   "metadata": {},
   "source": [
    "Q5"
   ]
  },
  {
   "cell_type": "code",
   "execution_count": null,
   "metadata": {},
   "outputs": [],
   "source": [
    "# Python multiprocessing Pool. The management of the worker processes can be simplified with the Pool object. \n",
    "# It controls a pool of worker processes to which jobs can be submitted.\n",
    "# The pool's map method chops the given iterable into a number of chunks which it submits to the process pool as separate tasks"
   ]
  }
 ],
 "metadata": {
  "kernelspec": {
   "display_name": "Python 3",
   "language": "python",
   "name": "python3"
  },
  "language_info": {
   "codemirror_mode": {
    "name": "ipython",
    "version": 3
   },
   "file_extension": ".py",
   "mimetype": "text/x-python",
   "name": "python",
   "nbconvert_exporter": "python",
   "pygments_lexer": "ipython3",
   "version": "3.11.2"
  },
  "orig_nbformat": 4,
  "vscode": {
   "interpreter": {
    "hash": "81ce77c2427c9ada93eff0271e9fc64c737574fb9201b3904ba44ca2c63ffa08"
   }
  }
 },
 "nbformat": 4,
 "nbformat_minor": 2
}
